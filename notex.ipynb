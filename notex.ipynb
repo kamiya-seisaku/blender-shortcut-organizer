{
 "cells": [
  {
   "cell_type": "code",
   "execution_count": null,
   "metadata": {},
   "outputs": [],
   "source": [
    "bl_info = {\n",
    "    \"name\": \"Blender Shortcut Organizer\",\n",
    "    \"author\": \"kkay\",\n",
    "    \"version\": (1, 0),\n",
    "    \"blender\": (3, 6, 0),\n",
    "    \"location\": \"View3D > Tool Shelf > Shortcut Organizer\",\n",
    "    \"description\": \"Simplifies the management of shortcuts in Blender\",\n",
    "    \"category\": \"3D View\",\n",
    "}\n",
    "\n",
    "import bpy\n",
    "\n",
    "# Popup Operator\n",
    "class ShortcutPopupOperator(bpy.types.Operator):\n",
    "    bl_idname = \"object.shortcut_popup\"\n",
    "    bl_label = \"Shortcut Popup\"\n",
    "\n",
    "    def invoke(self, context, event):\n",
    "        return context.window_manager.invoke_props_dialog(self)\n",
    "\n",
    "    def draw(self, context):\n",
    "        layout = self.layout\n",
    "        layout.label(text=\"Shortcut Organizer Popup\")\n",
    "\n",
    "# Main Operator\n",
    "class ShortcutOrganizerOperator(bpy.types.Operator):\n",
    "    bl_idname = \"object.shortcut_organizer\"\n",
    "    bl_label = \"Shortcut Organizer\"\n",
    "\n",
    "    def draw(self, context):\n",
    "        layout = self.layout\n",
    "\n",
    "    # Your methods would go here.\n",
    "\n",
    "# Property Window Panel\n",
    "class ShortcutOrganizerPanel(bpy.types.Panel):\n",
    "    bl_idname = \"object.shortcut_organizer_panel\"\n",
    "    bl_label = \"Shortcut Organizer Panel\"\n",
    "    bl_space_type = 'PROPERTIES'\n",
    "    bl_region_type = 'WINDOW'\n",
    "    bl_context = \"object\"\n",
    " \n",
    "    def draw(self, context):\n",
    "        layout = self.layout\n",
    "        layout.label(text=\"Shortcut Organizer\")\n",
    "        layout.operator(\"object.shortcut_popup\", text=\"Open Popup\")\n",
    "        \n",
    "# Context Menu\n",
    "def shortcut_context_menu(self, context):\n",
    "    self.layout.operator(\"object.shortcut_popup\")\n",
    "\n",
    "# Registration\n",
    "def register():\n",
    "    bpy.utils.register_class(ShortcutOrganizerOperator)\n",
    "    bpy.utils.register_class(ShortcutOrganizerPanel)\n",
    "    bpy.utils.register_class(ShortcutPopupOperator)\n",
    "    bpy.types.VIEW3D_MT_object_context_menu.append(shortcut_context_menu)\n",
    "\n",
    "def unregister():\n",
    "    bpy.utils.unregister_class(ShortcutOrganizerOperator)\n",
    "    bpy.utils.unregister_class(ShortcutOrganizerPanel)\n",
    "    bpy.utils.unregister_class(ShortcutPopupOperator)\n",
    "    bpy.types.VIEW3D_MT_object_context_menu.remove(shortcut_context_menu)\n",
    "\n",
    "if __name__ == \"__main__\":\n",
    "    register()\n"
   ]
  },
  {
   "cell_type": "markdown",
   "metadata": {},
   "source": [
    "- kkay: Propose reduced and organized code. Some parts are probably redundant. I need 1 property window panel 2 popup 3 context menu. 1 and 2 has button to invoke 3. Rename anything  if that's good. Gimme revised code. \n",
    "- ChatGPT: In this revised code, I have renamed classes and removed redundant portions. Now you have one property window panel (ShortcutOrganizerPanel), one popup (ShortcutPopupOperator), and one context menu (shortcut_context_menu). The panel and the popup both have buttons to invoke the context menu.\n",
    "  [recap in 3][23/Oct/23 22:03]"
   ]
  },
  {
   "cell_type": "code",
   "execution_count": null,
   "metadata": {},
   "outputs": [],
   "source": [
    "import bpy\n",
    "\n",
    "def add_context_menu(self, context):\n",
    "    self.layout.operator('object.hello_world_popup')\n",
    "\n",
    "def register():\n",
    "    bpy.types.VIEW3D_MT_object_context_menu.append(add_context_menu)\n",
    "\n",
    "def unregister():\n",
    "    bpy.types.VIEW3D_MT_object_context_menu.remove(add_context_menu)\n",
    "\n",
    "if __name__ == \"__main__\":\n",
    "    register()"
   ]
  },
  {
   "cell_type": "code",
   "execution_count": null,
   "metadata": {},
   "outputs": [],
   "source": [
    "Modules Installed () from 'C:\\\\Users\\\\kazuo\\\\AppData\\\\Roaming\\\\Blender Foundation\\\\Blender\\\\3.6\\\\scripts\\\\addons\\\\blender-shortcut-organizer\\\\__init__.py' into 'C:\\\\Users\\\\kazuo\\\\AppData\\\\Roaming\\\\Blender Foundation\\\\Blender\\\\3.6\\\\scripts\\\\addons'"
   ]
  },
  {
   "cell_type": "markdown",
   "metadata": {},
   "source": [
    "## Blender Shortcut Organizer Code Structure\n",
    "\n",
    "### Registration Functions\n",
    "- `register()`\n",
    "  - `unregister()`\n",
    "\n",
    "### Operators\n",
    "- `HelloWorldPopupOperator`\n",
    "- `ReloadAddonOperator`\n",
    "\n",
    "### Main Operator\n",
    "- `ShortcutOrganizer`\n",
    "  - Methods\n",
    "    - `assign_shortcut`\n",
    "    - `input_prompt`\n",
    "    - `resolve_conflict`\n",
    "    - `suggest_alternatives`\n",
    "    - `finalize_assignment`\n",
    "\n",
    "### Panel\n",
    "- `ShortcutOrganizerPanel`\n",
    "  - Methods\n",
    "    - `draw`"
   ]
  }
 ],
 "metadata": {
  "kernelspec": {
   "display_name": "Python 3",
   "language": "python",
   "name": "python3"
  },
  "language_info": {
   "codemirror_mode": {
    "name": "ipython",
    "version": 3
   },
   "file_extension": ".py",
   "mimetype": "text/x-python",
   "name": "python",
   "nbconvert_exporter": "python",
   "pygments_lexer": "ipython3",
   "version": "3.11.5"
  },
  "orig_nbformat": 4
 },
 "nbformat": 4,
 "nbformat_minor": 2
}
