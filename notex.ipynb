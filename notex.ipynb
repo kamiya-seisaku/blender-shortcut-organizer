{
 "cells": [
  {
   "cell_type": "code",
   "execution_count": null,
   "metadata": {},
   "outputs": [],
   "source": [
    "import bpy\n",
    "\n",
    "def add_context_menu(self, context):\n",
    "    self.layout.operator('object.hello_world_popup')\n",
    "\n",
    "def register():\n",
    "    bpy.types.VIEW3D_MT_object_context_menu.append(add_context_menu)\n",
    "\n",
    "def unregister():\n",
    "    bpy.types.VIEW3D_MT_object_context_menu.remove(add_context_menu)\n",
    "\n",
    "if __name__ == \"__main__\":\n",
    "    register()"
   ]
  },
  {
   "cell_type": "code",
   "execution_count": null,
   "metadata": {},
   "outputs": [],
   "source": [
    "Modules Installed () from 'C:\\\\Users\\\\kazuo\\\\AppData\\\\Roaming\\\\Blender Foundation\\\\Blender\\\\3.6\\\\scripts\\\\addons\\\\blender-shortcut-organizer\\\\__init__.py' into 'C:\\\\Users\\\\kazuo\\\\AppData\\\\Roaming\\\\Blender Foundation\\\\Blender\\\\3.6\\\\scripts\\\\addons'"
   ]
  },
  {
   "cell_type": "markdown",
   "metadata": {},
   "source": [
    "## Blender Shortcut Organizer Code Structure\n",
    "\n",
    "### Registration Functions\n",
    "- `register()`\n",
    "  - `unregister()`\n",
    "\n",
    "### Operators\n",
    "- `HelloWorldPopupOperator`\n",
    "- `ReloadAddonOperator`\n",
    "\n",
    "### Main Operator\n",
    "- `ShortcutOrganizer`\n",
    "  - Methods\n",
    "    - `assign_shortcut`\n",
    "    - `input_prompt`\n",
    "    - `resolve_conflict`\n",
    "    - `suggest_alternatives`\n",
    "    - `finalize_assignment`\n",
    "\n",
    "### Panel\n",
    "- `ShortcutOrganizerPanel`\n",
    "  - Methods\n",
    "    - `draw`"
   ]
  }
 ],
 "metadata": {
  "kernelspec": {
   "display_name": "Python 3",
   "language": "python",
   "name": "python3"
  },
  "language_info": {
   "codemirror_mode": {
    "name": "ipython",
    "version": 3
   },
   "file_extension": ".py",
   "mimetype": "text/x-python",
   "name": "python",
   "nbconvert_exporter": "python",
   "pygments_lexer": "ipython3",
   "version": "3.11.5"
  },
  "orig_nbformat": 4
 },
 "nbformat": 4,
 "nbformat_minor": 2
}
