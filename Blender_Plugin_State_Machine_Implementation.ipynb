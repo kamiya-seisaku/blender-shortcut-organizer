{
  "cells": [
    {
      "cell_type": "markdown",
      "source": [
        "# Blender Plugin State Machine Implementation\n",
        "This notebook aims to provide a revised version of the `__init__.py` file for your Blender Shortcut Organizer plugin, incorporating a state machine."
      ],
      "metadata": {
        "noteable": {
          "cell_type": "markdown"
        }
      },
      "id": "81b96aa4-4f23-41ad-b776-fd25fb4ca4e6"
    },
    {
      "cell_type": "code",
      "source": [
        "# Proposed State Machine Class\n",
        "class BlenderAddonStateMachine:\n",
        "    def __init__(self):\n",
        "        self.state = 'INITIAL'\n",
        "\n",
        "    def transition(self, event):\n",
        "        if self.state == 'INITIAL':\n",
        "            if event == 'activate':\n",
        "                self.state = 'ACTIVE'\n",
        "                self.on_activate()\n",
        "        elif self.state == 'ACTIVE':\n",
        "            if event == 'deactivate':\n",
        "                self.state = 'INACTIVE'\n",
        "                self.on_deactivate()\n",
        "\n",
        "    def on_activate(self):\n",
        "        print('Addon activated')\n",
        "\n",
        "    def on_deactivate(self):\n",
        "        print('Addon deactivated')"
      ],
      "outputs": [],
      "execution_count": null,
      "metadata": {
        "noteable": {
          "cell_type": "code"
        }
      },
      "id": "af0d4316-61ec-49cd-a0d1-3141fac7a436"
    },
    {
      "cell_type": "markdown",
      "source": [
        "## Revised __init__.py\n",
        "Below is how you can incorporate the state machine into your `__init__.py` file."
      ],
      "metadata": {
        "noteable": {
          "cell_type": "markdown"
        }
      },
      "id": "ec386f68-1f04-4e32-92bf-dab018008ce9"
    },
    {
      "cell_type": "code",
      "source": [
        "# Revised __init__.py incorporating State Machine\n",
        "\n",
        "# Import the state machine class\n",
        "from .state_machine import BlenderAddonStateMachine\n",
        "\n",
        "# Initialize state machine\n",
        "sm = BlenderAddonStateMachine()\n",
        "\n",
        "def register():\n",
        "    sm.transition('activate')\n",
        "    # Your existing register code here\n",
        "\n",
        "def unregister():\n",
        "    sm.transition('deactivate')\n",
        "    # Your existing unregister code here"
      ],
      "outputs": [],
      "execution_count": null,
      "metadata": {
        "noteable": {
          "cell_type": "code"
        }
      },
      "id": "17d9b282-1f30-4190-ae2d-f6175204453b"
    }
  ],
  "metadata": {
    "noteable-chatgpt": {
      "create_notebook": {
        "openai_conversation_id": "18b19863-7fef-5d6d-ac37-a6bc2d08321c",
        "openai_ephemeral_user_id": "dce5e4e7-e057-5b4b-bab2-85641be6f598"
      }
    },
    "kernel_info": {
      "name": "python3"
    },
    "kernelspec": {
      "display_name": "Python 3.9",
      "identifier": "legacy",
      "language": "python",
      "language_version": "3.9",
      "name": "python3"
    },
    "selected_hardware_size": "small",
    "noteable": {
      "last_delta_id": "b882d84c-05aa-438e-9ffd-2d498358f660"
    },
    "nteract": {
      "version": "noteable@2.9.0"
    }
  },
  "nbformat": 4,
  "nbformat_minor": 5
}